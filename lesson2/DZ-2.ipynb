{
 "cells": [
  {
   "cell_type": "markdown",
   "metadata": {},
   "source": [
    "## Домашнее задание 2"
   ]
  },
  {
   "cell_type": "markdown",
   "metadata": {},
   "source": [
    "1. Напишите функцию, которая возвращает сумму двух вещественных аргументов a и b, а к ней декоратор, который делает так, чтобы возвращаемое значение функцией было по модулю 5."
   ]
  },
  {
   "cell_type": "code",
   "execution_count": 58,
   "metadata": {},
   "outputs": [
    {
     "name": "stdout",
     "output_type": "stream",
     "text": [
      "Сумма числа 16 по модулю 5: 1\n"
     ]
    },
    {
     "data": {
      "text/plain": [
       "1"
      ]
     },
     "execution_count": 58,
     "metadata": {},
     "output_type": "execute_result"
    }
   ],
   "source": [
    "def decorator_summa(func):\n",
    "    def summa_mod_5(*args):\n",
    "        print(f'Сумма числа {func(*args)} по модулю 5: {func(*args) % 5}')\n",
    "        return func(*args) % 5\n",
    "    return summa_mod_5\n",
    "\n",
    "@decorator_summa\n",
    "def summa(a, b):\n",
    "    return a + b\n",
    "\n",
    "summa(11, 5)"
   ]
  },
  {
   "cell_type": "markdown",
   "metadata": {},
   "source": [
    "2. Попробуйте описать своими словами основные отличия SMOTE от ADASYN, ознакомившись с документацией к ним."
   ]
  },
  {
   "cell_type": "markdown",
   "metadata": {},
   "source": [
    "1. Основное отличие SMOTE от ADASYN заключается в том, как они создают новые элементы опираясь на разные данные. ADASYN опирается на выбросы, либо на значения,в которых алгоритм менее всего уверен, а SMOTE просто берет всю выборку минорного класса и создает по ней с помощью К-ближайших соседей новые экземпляры.\n",
    "2. У SMOTE от ADASYN есть несколько модификаций, например, одна из модификаций может создавать новые экземпляры на основе категориальных признаков.\n",
    "3. Также отличаются числом передаваемых параметров. У SMOTE их больше, чем у ADASYN. :)"
   ]
  }
 ],
 "metadata": {
  "kernelspec": {
   "display_name": "Python 3",
   "language": "python",
   "name": "python3"
  },
  "language_info": {
   "codemirror_mode": {
    "name": "ipython",
    "version": 3
   },
   "file_extension": ".py",
   "mimetype": "text/x-python",
   "name": "python",
   "nbconvert_exporter": "python",
   "pygments_lexer": "ipython3",
   "version": "3.7.1"
  }
 },
 "nbformat": 4,
 "nbformat_minor": 2
}
